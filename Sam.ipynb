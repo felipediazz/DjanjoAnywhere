{
 "cells": [
  {
   "cell_type": "code",
   "execution_count": null,
   "id": "7d46a721",
   "metadata": {},
   "outputs": [],
   "source": [
    "import pandas as pd\n",
    "import numpy as np\n",
    "import cv2\n",
    "# from core.views import process_image\n",
    "\n",
    "def process_image(image):\n",
    "    # TODO: procesa la imagen\n",
    "    # Devuelve el resultado como un DataFrame de Pandas\n",
    "    return pd.DataFrame({'columna1': [1, 2, 3], 'columna2': [4, 5, 6]})"
   ]
  }
 ],
 "metadata": {
  "kernelspec": {
   "display_name": "Python 3 (ipykernel)",
   "language": "python",
   "name": "python3"
  },
  "language_info": {
   "codemirror_mode": {
    "name": "ipython",
    "version": 3
   },
   "file_extension": ".py",
   "mimetype": "text/x-python",
   "name": "python",
   "nbconvert_exporter": "python",
   "pygments_lexer": "ipython3",
   "version": "3.11.3"
  }
 },
 "nbformat": 4,
 "nbformat_minor": 5
}
